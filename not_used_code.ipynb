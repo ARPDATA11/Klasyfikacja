{
 "cells": [
  {
   "cell_type": "code",
   "execution_count": null,
   "metadata": {},
   "outputs": [],
   "source": [
    "# def visualize_column_counts_per_class(column_name):\n",
    "#     count = train_df.groupby(['Attrition'])[column_name].value_counts().unstack()\n",
    "#     percentage = train_df.pivot_table(columns=column_name, index='Attrition', values='EmployeeNumber', aggfunc='count')\n",
    "#     percentage = percentage.div(percentage.sum(axis=1), axis=0).round(2)\n",
    "\n",
    "#     # Plotting count chart\n",
    "#     fig, ax = plt.subplots(1, 2)\n",
    "#     count.plot(kind='bar', ax=ax[0], figsize=(15, 5))\n",
    "\n",
    "#     # Plotting percentage chart\n",
    "#     percentage.plot(kind='bar', ax=ax[1], figsize=(15, 5), stacked=True)"
   ]
  },
  {
   "cell_type": "code",
   "execution_count": null,
   "metadata": {},
   "outputs": [],
   "source": [
    "# def corr_with_heatmap(data_frame):\n",
    "#     plt.figure(figsize=(20,15))\n",
    "#     sns.set_theme(style=\"white\")\n",
    "#     cor = data_frame.corr(numeric_only=True)\n",
    "#     sns.heatmap(cor, annot=True, cmap=\"Blues\", fmt='.1g')"
   ]
  },
  {
   "cell_type": "code",
   "execution_count": null,
   "metadata": {},
   "outputs": [],
   "source": [
    "# corr_with_heatmap(data)"
   ]
  },
  {
   "cell_type": "code",
   "execution_count": null,
   "metadata": {},
   "outputs": [],
   "source": [
    "# train_df.corr(numeric_only=True)"
   ]
  },
  {
   "cell_type": "code",
   "execution_count": null,
   "metadata": {},
   "outputs": [],
   "source": [
    "# changing \"outliers\" in column ['Age'] by interpolation method; \n",
    "# interpolation will be the best because almost of all data for outliers are the same value as the nearest one with the same JobRole\n",
    "# Age column is treated separately because value of outliers differs from another outliers\n",
    "\n",
    "# train_DF.loc[train_DF['Age'] > 60, 'Age'] = train_DF.loc[train_DF['Age'] > 60, 'Age'].interpolate()\n",
    "# train_DF['Age'].describe()"
   ]
  },
  {
   "cell_type": "code",
   "execution_count": null,
   "metadata": {},
   "outputs": [],
   "source": [
    "# creation of outlieres variable vithout \"Age\" column\n",
    "\n",
    "# outliers_without_age = train_DF[['DistanceFromHome', 'TotalWorkingYears', 'YearsAtCompany', 'YearsInCurrentRole', \n",
    "#                                  'YearsSinceLastPromotion', 'YearsWithCurrManager']]"
   ]
  },
  {
   "cell_type": "code",
   "execution_count": null,
   "metadata": {},
   "outputs": [],
   "source": [
    "# def outliers_removing (cols, dataFrame):\n",
    "#     for col in cols:\n",
    "#         dataFrame.loc[dataFrame[col] > 1000, col] = dataFrame.loc[dataFrame[col] > 1000, col].interpolate()"
   ]
  },
  {
   "cell_type": "code",
   "execution_count": null,
   "metadata": {},
   "outputs": [],
   "source": [
    "# # Function for exchanging outliers (except \"Age\") to median\n",
    "# def outliers_reduction(cols, dataframe):\n",
    "#     for col in cols:\n",
    "#         high_value = max(dataframe[dataframe[col] < 1000][col].tolist())\n",
    "#         med = dataframe[col].median()\n",
    "#         dataframe.loc[(dataframe[col] > high_value), col] = med"
   ]
  },
  {
   "cell_type": "code",
   "execution_count": null,
   "metadata": {},
   "outputs": [],
   "source": [
    "# #function for unique value\n",
    "\n",
    "# def unique_value (column,data):\n",
    "#     for column in data.columns:\n",
    "#          unique_values = tuple(data[column].unique())"
   ]
  },
  {
   "cell_type": "code",
   "execution_count": null,
   "metadata": {},
   "outputs": [],
   "source": [
    "# #function for convarsion columns with not numeric value:\n",
    "\n",
    "# def convert_to_numeric(column, data):\n",
    "#         def get_length_unique_values(column):\n",
    "#             unique_values=data[column].unique()\n",
    "#             return len(unique_values)\n",
    "#         unique_values_length = get_length_unique_values (column)\n",
    "#         data[column] = data[column].map({value: unique_values_length for value in data[column].unique()})\n",
    "#         return data"
   ]
  },
  {
   "cell_type": "code",
   "execution_count": null,
   "metadata": {},
   "outputs": [],
   "source": [
    "# #conversion of all columns to be converted from not numerical to numerical based on function convert_to_numeric - based on length of unique\n",
    "# # value list\n",
    "\n",
    "# # list_tobe_converted = ['BusinessTravel', 'Department', 'EducationField', 'Gender', 'JobRole', 'MaritalStatus', 'OverTime', 'Attrition']\n",
    "\n",
    "# train_DF = convert_to_numeric('BusinessTravel', train_DF)\n",
    "# X_test = convert_to_numeric('BusinessTravel', X_test)\n",
    "\n",
    "# train_DF = convert_to_numeric('Department', train_DF)\n",
    "# X_test = convert_to_numeric('Department', X_test)\n",
    "\n",
    "# train_DF = convert_to_numeric('EducationField', train_DF)\n",
    "# X_test = convert_to_numeric('EducationField', X_test)\n",
    "\n",
    "# train_DF = convert_to_numeric('Gender', train_DF)\n",
    "# X_test = convert_to_numeric('Gender', X_test)\n",
    "\n",
    "# train_DF = convert_to_numeric('JobRole', train_DF)\n",
    "# X_test = convert_to_numeric('JobRole', X_test)\n",
    "\n",
    "# train_DF = convert_to_numeric('MaritalStatus', train_DF)\n",
    "# X_test = convert_to_numeric('MaritalStatus', X_test)\n",
    "\n",
    "# train_DF = convert_to_numeric('OverTime', train_DF)\n",
    "# X_test = convert_to_numeric('OverTime', X_test)\n",
    "\n",
    "# train_DF = convert_to_numeric('Attrition', train_DF)\n",
    "# X_test = convert_to_numeric('Attrition', X_test)"
   ]
  },
  {
   "cell_type": "code",
   "execution_count": null,
   "metadata": {},
   "outputs": [],
   "source": [
    "# to_encode = {Unique_BusinessTravel: ['Non-Travel', 'Travel_Rarely', 'Travel_Frequently'],\n",
    "# Unique_Department: ['Research & Development', 'Human Resources', 'Sales'],\n",
    "# Unique_EducationField: ['Life Sciences', 'Medical', 'Other', 'Technical Degree', 'Marketing','Human Resources'],\n",
    "# Unique_Gender: ['Male', 'Female'],\n",
    "# Unique_JobRole: ['Laboratory Technician', 'Manufacturing Director', 'Research Scientist'\n",
    "#  'Human Resources', 'Research Director', 'Sales Representative', 'Manager','Healthcare Representative', 'Sales Executive'],\n",
    "# Unique_MaritalStatus: ['Divorced', 'Single', 'Married' ],\n",
    "# Unique_OverTime: ['No','Yes'],\n",
    "# Unique_Attrition ['Yes','No',],\n",
    "# }"
   ]
  },
  {
   "cell_type": "code",
   "execution_count": null,
   "metadata": {},
   "outputs": [],
   "source": [
    "# Unique_BusinessTravel = ['Non-Travel', 'Travel_Rarely', 'Travel_Frequently']\n",
    "# Unique_Department = ['Research & Development', 'Human Resources', 'Sales'],\n",
    "# Unique_EducationField = ['Life Sciences', 'Medical', 'Other', 'Technical Degree', 'Marketing','Human Resources']\n",
    "# Unique_Gender = ['Male', 'Female']\n",
    "# Unique_JobRole = ['Laboratory Technician', 'Manufacturing Director', 'Research Scientist', 'Human Resources', 'Research Director', 'Sales Representative', 'Manager','Healthcare Representative', 'Sales Executive']\n",
    "# Unique_MaritalStatus = ['Divorced', 'Single', 'Married' ]\n",
    "# Unique_OverTime = ['No','Yes']\n",
    "# Unique_Attrition = ['Yes','No',]"
   ]
  },
  {
   "cell_type": "code",
   "execution_count": null,
   "metadata": {},
   "outputs": [],
   "source": [
    "# #Zamiana danych z dwoma wartościami unikalnymi\n",
    "# encoder = LabelEncoder()\n",
    "# train_DF['Attrition'] = encoder.fit_transform(train_df['Attrition'])\n",
    "# train_df['Gender'] = encoder.fit_transform(train_df['Gender'])\n",
    "# train_df['OverTime'] = encoder.fit_transform(train_df['OverTime'])\n",
    "# #Ramka do testu\n",
    "# X_test['Attrition'] = encoder.fit_transform(X_test['Attrition'])\n",
    "# X_test['Gender'] = encoder.fit_transform(X_test['Gender'])\n",
    "# X_test['OverTime'] = encoder.fit_transform(X_test['OverTime'])"
   ]
  },
  {
   "cell_type": "code",
   "execution_count": null,
   "metadata": {},
   "outputs": [],
   "source": [
    "# train_df.head()"
   ]
  },
  {
   "cell_type": "code",
   "execution_count": null,
   "metadata": {},
   "outputs": [],
   "source": [
    "# # Zamiana kolumn z więcej niż dwiema wartościami kategorycznymi\n",
    "# # Ramka do train\n",
    "# unique_travels = tuple(train_df.BusinessTravel.unique())\n",
    "# train_df['BusinessTravel'].replace(unique_travels, range(len(unique_travels)), inplace=True)\n",
    "\n",
    "# unique_department = tuple(train_df.Department.unique())\n",
    "# train_df['Department'].replace(unique_department, range(len(unique_department)), inplace=True)\n",
    "\n",
    "# unique_education_field = tuple(train_df.EducationField.unique())\n",
    "# train_df['EducationField'].replace(unique_education_field, range(len(unique_education_field)), inplace=True)\n",
    "\n",
    "# unique_job_role = tuple(train_df.JobRole.unique())\n",
    "# train_df['JobRole'].replace(unique_job_role, range(len(unique_job_role)), inplace=True)\n",
    "\n",
    "# unique_marital_status = tuple(train_df.MaritalStatus.unique())\n",
    "# train_df['MaritalStatus'].replace(unique_marital_status, range(len(unique_marital_status)), inplace=True)\n",
    "\n",
    "# #Ramka do train\n",
    "# unique_travels = tuple(X_test.BusinessTravel.unique())\n",
    "# X_test['BusinessTravel'].replace(unique_travels, range(len(unique_travels)), inplace=True)\n",
    "\n",
    "# unique_department = tuple(X_test.Department.unique())\n",
    "# X_test['Department'].replace(unique_department, range(len(unique_department)), inplace=True)\n",
    "\n",
    "# unique_education_field = tuple(X_test.EducationField.unique())\n",
    "# X_test['EducationField'].replace(unique_education_field, range(len(unique_education_field)), inplace=True)\n",
    "\n",
    "# unique_job_role = tuple(X_test.JobRole.unique())\n",
    "# X_test['JobRole'].replace(unique_job_role, range(len(unique_job_role)), inplace=True)\n",
    "\n",
    "# unique_marital_status = tuple(X_test.MaritalStatus.unique())\n",
    "# X_test['MaritalStatus'].replace(unique_marital_status, range(len(unique_marital_status)), inplace=True)"
   ]
  },
  {
   "cell_type": "code",
   "execution_count": null,
   "metadata": {},
   "outputs": [],
   "source": [
    "# corr_with_heatmap(train_DF)"
   ]
  },
  {
   "cell_type": "code",
   "execution_count": null,
   "metadata": {},
   "outputs": [],
   "source": [
    "# train_df['PercentSalaryHike'].hist()"
   ]
  },
  {
   "cell_type": "code",
   "execution_count": null,
   "metadata": {},
   "outputs": [],
   "source": [
    "# copy = train_df.corr(numeric_only=True)"
   ]
  },
  {
   "cell_type": "code",
   "execution_count": null,
   "metadata": {},
   "outputs": [],
   "source": [
    "# sns.set(rc={\"axes.facecolor\":\"white\",\"figure.facecolor\":\"white\"})\n",
    "# plt.figure(figsize=(20,10))\n",
    "# copy['Attrition'].sort_values(ascending = False).plot(kind='bar');"
   ]
  },
  {
   "cell_type": "code",
   "execution_count": null,
   "metadata": {},
   "outputs": [],
   "source": [
    "# data_for_model = train_df.copy()\n",
    "# #Ramka do train\n",
    "# data_for_model.drop(['YearlyIncome', 'TotalWorkingYears', 'MonthlyIncome', 'PerformanceRating'], axis= 1)\n",
    "# #Ramka do test\n",
    "# X_test.drop(['YearlyIncome', 'TotalWorkingYears', 'MonthlyIncome', 'PerformanceRating'], axis= 1)"
   ]
  },
  {
   "cell_type": "code",
   "execution_count": null,
   "metadata": {},
   "outputs": [],
   "source": [
    "# numbers_for_test = pd.read_csv('test_target.csv')\n",
    "\n",
    "# y_train = data_for_model.pop('Attrition')\n",
    "# X_train = data_for_model\n",
    "# y_test = numbers_for_test['Attrition']"
   ]
  },
  {
   "cell_type": "code",
   "execution_count": null,
   "metadata": {},
   "outputs": [],
   "source": [
    "# X_train.isnull()"
   ]
  },
  {
   "cell_type": "code",
   "execution_count": null,
   "metadata": {},
   "outputs": [],
   "source": []
  }
 ],
 "metadata": {
  "language_info": {
   "name": "python"
  },
  "orig_nbformat": 4
 },
 "nbformat": 4,
 "nbformat_minor": 2
}
