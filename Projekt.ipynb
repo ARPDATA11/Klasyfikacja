{
 "cells": [
  {
   "cell_type": "code",
   "execution_count": 1,
   "metadata": {
    "collapsed": true,
    "ExecuteTime": {
     "end_time": "2023-05-21T11:41:53.996158800Z",
     "start_time": "2023-05-21T11:41:47.989432700Z"
    }
   },
   "outputs": [],
   "source": [
    "import pandas as pd\n",
    "import matplotlib.pyplot as plt\n",
    "from sklearn.model_selection import train_test_split"
   ]
  },
  {
   "cell_type": "code",
   "execution_count": 15,
   "outputs": [],
   "source": [
    "attrition = pd.read_csv('attrition.csv')\n",
    "df1 = pd.read_csv('df1.csv')\n",
    "df2 = pd.read_csv('df2.csv')\n",
    "target = pd.read_csv('test_target.csv')"
   ],
   "metadata": {
    "collapsed": false,
    "ExecuteTime": {
     "end_time": "2023-05-21T12:33:12.395852600Z",
     "start_time": "2023-05-21T12:33:12.350855600Z"
    }
   }
  },
  {
   "cell_type": "code",
   "execution_count": 16,
   "outputs": [
    {
     "name": "stdout",
     "output_type": "stream",
     "text": [
      "<class 'pandas.core.frame.DataFrame'>\n",
      "RangeIndex: 4449 entries, 0 to 4448\n",
      "Data columns (total 2 columns):\n",
      " #   Column          Non-Null Count  Dtype \n",
      "---  ------          --------------  ----- \n",
      " 0   EmployeeNumber  4449 non-null   int64 \n",
      " 1   Attrition       4302 non-null   object\n",
      "dtypes: int64(1), object(1)\n",
      "memory usage: 69.6+ KB\n"
     ]
    }
   ],
   "source": [
    "attrition.info()"
   ],
   "metadata": {
    "collapsed": false,
    "ExecuteTime": {
     "end_time": "2023-05-21T12:33:13.279679300Z",
     "start_time": "2023-05-21T12:33:13.266680100Z"
    }
   }
  },
  {
   "cell_type": "code",
   "execution_count": 17,
   "outputs": [
    {
     "data": {
      "text/plain": "EmployeeNumber                0\nOver18                        0\nOverTime                      0\nPercentSalaryHike             0\nPerformanceRating             0\nRelationshipSatisfaction      0\nStandardHours                 0\nStockOptionLevel              0\nTotalWorkingYears             0\nTrainingTimesLastYear         0\nWorkLifeBalance               0\nYearsAtCompany                0\nYearsInCurrentRole            0\nYearsSinceLastPromotion       0\nYearsWithCurrManager          0\nAttrition                   147\nYearlyIncome                  0\ndtype: int64"
     },
     "execution_count": 17,
     "metadata": {},
     "output_type": "execute_result"
    }
   ],
   "source": [
    "df2.isnull().sum()"
   ],
   "metadata": {
    "collapsed": false,
    "ExecuteTime": {
     "end_time": "2023-05-21T12:33:14.995992100Z",
     "start_time": "2023-05-21T12:33:14.974986700Z"
    }
   }
  },
  {
   "cell_type": "markdown",
   "source": [
    "# EDA"
   ],
   "metadata": {
    "collapsed": false
   }
  },
  {
   "cell_type": "code",
   "execution_count": 19,
   "outputs": [
    {
     "name": "stdout",
     "output_type": "stream",
     "text": [
      "<class 'pandas.core.frame.DataFrame'>\n",
      "RangeIndex: 4449 entries, 0 to 4448\n",
      "Data columns (total 17 columns):\n",
      " #   Column                    Non-Null Count  Dtype  \n",
      "---  ------                    --------------  -----  \n",
      " 0   EmployeeNumber            4449 non-null   int64  \n",
      " 1   Over18                    4449 non-null   object \n",
      " 2   OverTime                  4449 non-null   object \n",
      " 3   PercentSalaryHike         4449 non-null   float64\n",
      " 4   PerformanceRating         4449 non-null   float64\n",
      " 5   RelationshipSatisfaction  4449 non-null   float64\n",
      " 6   StandardHours             4449 non-null   float64\n",
      " 7   StockOptionLevel          4449 non-null   float64\n",
      " 8   TotalWorkingYears         4449 non-null   float64\n",
      " 9   TrainingTimesLastYear     4449 non-null   float64\n",
      " 10  WorkLifeBalance           4449 non-null   float64\n",
      " 11  YearsAtCompany            4449 non-null   float64\n",
      " 12  YearsInCurrentRole        4449 non-null   float64\n",
      " 13  YearsSinceLastPromotion   4449 non-null   float64\n",
      " 14  YearsWithCurrManager      4449 non-null   float64\n",
      " 15  Attrition                 4302 non-null   object \n",
      " 16  YearlyIncome              4449 non-null   float64\n",
      "dtypes: float64(13), int64(1), object(3)\n",
      "memory usage: 591.0+ KB\n"
     ]
    }
   ],
   "source": [
    "df2.info()"
   ],
   "metadata": {
    "collapsed": false,
    "ExecuteTime": {
     "end_time": "2023-05-21T12:33:45.611584Z",
     "start_time": "2023-05-21T12:33:45.584886700Z"
    }
   }
  },
  {
   "cell_type": "code",
   "execution_count": 20,
   "outputs": [],
   "source": [
    "data = df1.join(df2, lsuffix='EmployeeNumber', rsuffix='EmployeeNumber')"
   ],
   "metadata": {
    "collapsed": false,
    "ExecuteTime": {
     "end_time": "2023-05-21T12:35:40.988040300Z",
     "start_time": "2023-05-21T12:35:40.973026200Z"
    }
   }
  },
  {
   "cell_type": "code",
   "execution_count": 30,
   "outputs": [
    {
     "name": "stdout",
     "output_type": "stream",
     "text": [
      "<class 'pandas.core.frame.DataFrame'>\n",
      "RangeIndex: 4449 entries, 0 to 4448\n",
      "Data columns (total 37 columns):\n",
      " #   Column                        Non-Null Count  Dtype  \n",
      "---  ------                        --------------  -----  \n",
      " 0   EmployeeNumberEmployeeNumber  4449 non-null   int64  \n",
      " 1   Age                           4449 non-null   float64\n",
      " 2   BusinessTravel                4449 non-null   object \n",
      " 3   DailyRate                     4449 non-null   float64\n",
      " 4   Department                    4449 non-null   object \n",
      " 5   DistanceFromHome              4449 non-null   float64\n",
      " 6   Education                     4449 non-null   float64\n",
      " 7   EducationField                4449 non-null   object \n",
      " 8   EmployeeCount                 4449 non-null   float64\n",
      " 9   EnvironmentSatisfaction       4449 non-null   float64\n",
      " 10  Gender                        4449 non-null   object \n",
      " 11  HourlyRate                    4449 non-null   float64\n",
      " 12  JobInvolvement                4449 non-null   float64\n",
      " 13  JobLevel                      4449 non-null   float64\n",
      " 14  JobRole                       4449 non-null   object \n",
      " 15  JobSatisfaction               4449 non-null   float64\n",
      " 16  MaritalStatus                 4449 non-null   object \n",
      " 17  MonthlyIncome                 4449 non-null   float64\n",
      " 18  MonthlyRate                   4449 non-null   float64\n",
      " 19  NumCompaniesWorked            4449 non-null   float64\n",
      " 20  EmployeeNumberEmployeeNumber  4449 non-null   int64  \n",
      " 21  Over18                        4449 non-null   object \n",
      " 22  OverTime                      4449 non-null   object \n",
      " 23  PercentSalaryHike             4449 non-null   float64\n",
      " 24  PerformanceRating             4449 non-null   float64\n",
      " 25  RelationshipSatisfaction      4449 non-null   float64\n",
      " 26  StandardHours                 4449 non-null   float64\n",
      " 27  StockOptionLevel              4449 non-null   float64\n",
      " 28  TotalWorkingYears             4449 non-null   float64\n",
      " 29  TrainingTimesLastYear         4449 non-null   float64\n",
      " 30  WorkLifeBalance               4449 non-null   float64\n",
      " 31  YearsAtCompany                4449 non-null   float64\n",
      " 32  YearsInCurrentRole            4449 non-null   float64\n",
      " 33  YearsSinceLastPromotion       4449 non-null   float64\n",
      " 34  YearsWithCurrManager          4449 non-null   float64\n",
      " 35  Attrition                     4302 non-null   object \n",
      " 36  YearlyIncome                  4449 non-null   float64\n",
      "dtypes: float64(26), int64(2), object(9)\n",
      "memory usage: 1.3+ MB\n"
     ]
    }
   ],
   "source": [
    "data.info()"
   ],
   "metadata": {
    "collapsed": false,
    "ExecuteTime": {
     "end_time": "2023-05-21T12:56:05.470429600Z",
     "start_time": "2023-05-21T12:56:05.455428100Z"
    }
   }
  },
  {
   "cell_type": "code",
   "execution_count": 31,
   "outputs": [
    {
     "data": {
      "text/plain": "       EmployeeNumberEmployeeNumber          Age    DailyRate   \ncount                   4449.000000  4449.000000  4449.000000  \\\nmean                    7956.865588   416.187458   801.017982   \nstd                    17226.922333  1566.205147   405.605362   \nmin                        1.000000    18.000000   102.000000   \n25%                     1735.000000    31.000000   458.000000   \n50%                     5902.000000    36.000000   804.000000   \n75%                     7014.000000    45.000000  1162.000000   \nmax                   100146.000000  9890.000000  1499.000000   \n\n       DistanceFromHome    Education  EmployeeCount  EnvironmentSatisfaction   \ncount       4449.000000  4449.000000         4449.0              4449.000000  \\\nmean       33339.433356     2.909867            1.0                 2.719263   \nstd       145352.131423     1.025184            0.0                 1.093263   \nmin            1.000000     1.000000            1.0                 1.000000   \n25%            2.000000     2.000000            1.0                 2.000000   \n50%            8.000000     3.000000            1.0                 3.000000   \n75%           17.000000     4.000000            1.0                 4.000000   \nmax       999590.000000     5.000000            1.0                 4.000000   \n\n        HourlyRate  JobInvolvement     JobLevel  ...  StandardHours   \ncount  4449.000000     4449.000000  4449.000000  ...         4449.0  \\\nmean     65.977073        2.739492     2.053495  ...           80.0   \nstd      20.277369        0.712660     1.102979  ...            0.0   \nmin      30.000000        1.000000     1.000000  ...           80.0   \n25%      48.000000        2.000000     1.000000  ...           80.0   \n50%      66.000000        3.000000     2.000000  ...           80.0   \n75%      84.000000        3.000000     3.000000  ...           80.0   \nmax     100.000000        4.000000     5.000000  ...           80.0   \n\n       StockOptionLevel  TotalWorkingYears  TrainingTimesLastYear   \ncount       4449.000000        4449.000000            4449.000000  \\\nmean           0.785795         342.691616               2.808946   \nstd            0.848038        1484.151875               1.306080   \nmin            0.000000           0.000000               0.000000   \n25%            0.000000           6.000000               2.000000   \n50%            1.000000          10.000000               3.000000   \n75%            1.000000          17.000000               3.000000   \nmax            3.000000        9939.000000               6.000000   \n\n       WorkLifeBalance  YearsAtCompany  YearsInCurrentRole   \ncount      4449.000000     4449.000000         4449.000000  \\\nmean          2.764217      302.743313          355.125646   \nstd           0.710859     1352.211854         1456.887417   \nmin           1.000000        0.000000            0.000000   \n25%           2.000000        3.000000            2.000000   \n50%           3.000000        5.000000            3.000000   \n75%           3.000000       10.000000            7.000000   \nmax           4.000000     9984.000000         9937.000000   \n\n       YearsSinceLastPromotion  YearsWithCurrManager   YearlyIncome  \ncount              4449.000000           4449.000000    4449.000000  \nmean                385.886716            323.842886   77621.952798  \nstd                1572.914217           1409.370519   56194.865060  \nmin                   0.000000              0.000000   12108.000000  \n25%                   0.000000              2.000000   34788.000000  \n50%                   1.000000              3.000000   58512.000000  \n75%                   4.000000              7.000000  100152.000000  \nmax                9990.000000           9882.000000  239988.000000  \n\n[8 rows x 28 columns]",
      "text/html": "<div>\n<style scoped>\n    .dataframe tbody tr th:only-of-type {\n        vertical-align: middle;\n    }\n\n    .dataframe tbody tr th {\n        vertical-align: top;\n    }\n\n    .dataframe thead th {\n        text-align: right;\n    }\n</style>\n<table border=\"1\" class=\"dataframe\">\n  <thead>\n    <tr style=\"text-align: right;\">\n      <th></th>\n      <th>EmployeeNumberEmployeeNumber</th>\n      <th>Age</th>\n      <th>DailyRate</th>\n      <th>DistanceFromHome</th>\n      <th>Education</th>\n      <th>EmployeeCount</th>\n      <th>EnvironmentSatisfaction</th>\n      <th>HourlyRate</th>\n      <th>JobInvolvement</th>\n      <th>JobLevel</th>\n      <th>...</th>\n      <th>StandardHours</th>\n      <th>StockOptionLevel</th>\n      <th>TotalWorkingYears</th>\n      <th>TrainingTimesLastYear</th>\n      <th>WorkLifeBalance</th>\n      <th>YearsAtCompany</th>\n      <th>YearsInCurrentRole</th>\n      <th>YearsSinceLastPromotion</th>\n      <th>YearsWithCurrManager</th>\n      <th>YearlyIncome</th>\n    </tr>\n  </thead>\n  <tbody>\n    <tr>\n      <th>count</th>\n      <td>4449.000000</td>\n      <td>4449.000000</td>\n      <td>4449.000000</td>\n      <td>4449.000000</td>\n      <td>4449.000000</td>\n      <td>4449.0</td>\n      <td>4449.000000</td>\n      <td>4449.000000</td>\n      <td>4449.000000</td>\n      <td>4449.000000</td>\n      <td>...</td>\n      <td>4449.0</td>\n      <td>4449.000000</td>\n      <td>4449.000000</td>\n      <td>4449.000000</td>\n      <td>4449.000000</td>\n      <td>4449.000000</td>\n      <td>4449.000000</td>\n      <td>4449.000000</td>\n      <td>4449.000000</td>\n      <td>4449.000000</td>\n    </tr>\n    <tr>\n      <th>mean</th>\n      <td>7956.865588</td>\n      <td>416.187458</td>\n      <td>801.017982</td>\n      <td>33339.433356</td>\n      <td>2.909867</td>\n      <td>1.0</td>\n      <td>2.719263</td>\n      <td>65.977073</td>\n      <td>2.739492</td>\n      <td>2.053495</td>\n      <td>...</td>\n      <td>80.0</td>\n      <td>0.785795</td>\n      <td>342.691616</td>\n      <td>2.808946</td>\n      <td>2.764217</td>\n      <td>302.743313</td>\n      <td>355.125646</td>\n      <td>385.886716</td>\n      <td>323.842886</td>\n      <td>77621.952798</td>\n    </tr>\n    <tr>\n      <th>std</th>\n      <td>17226.922333</td>\n      <td>1566.205147</td>\n      <td>405.605362</td>\n      <td>145352.131423</td>\n      <td>1.025184</td>\n      <td>0.0</td>\n      <td>1.093263</td>\n      <td>20.277369</td>\n      <td>0.712660</td>\n      <td>1.102979</td>\n      <td>...</td>\n      <td>0.0</td>\n      <td>0.848038</td>\n      <td>1484.151875</td>\n      <td>1.306080</td>\n      <td>0.710859</td>\n      <td>1352.211854</td>\n      <td>1456.887417</td>\n      <td>1572.914217</td>\n      <td>1409.370519</td>\n      <td>56194.865060</td>\n    </tr>\n    <tr>\n      <th>min</th>\n      <td>1.000000</td>\n      <td>18.000000</td>\n      <td>102.000000</td>\n      <td>1.000000</td>\n      <td>1.000000</td>\n      <td>1.0</td>\n      <td>1.000000</td>\n      <td>30.000000</td>\n      <td>1.000000</td>\n      <td>1.000000</td>\n      <td>...</td>\n      <td>80.0</td>\n      <td>0.000000</td>\n      <td>0.000000</td>\n      <td>0.000000</td>\n      <td>1.000000</td>\n      <td>0.000000</td>\n      <td>0.000000</td>\n      <td>0.000000</td>\n      <td>0.000000</td>\n      <td>12108.000000</td>\n    </tr>\n    <tr>\n      <th>25%</th>\n      <td>1735.000000</td>\n      <td>31.000000</td>\n      <td>458.000000</td>\n      <td>2.000000</td>\n      <td>2.000000</td>\n      <td>1.0</td>\n      <td>2.000000</td>\n      <td>48.000000</td>\n      <td>2.000000</td>\n      <td>1.000000</td>\n      <td>...</td>\n      <td>80.0</td>\n      <td>0.000000</td>\n      <td>6.000000</td>\n      <td>2.000000</td>\n      <td>2.000000</td>\n      <td>3.000000</td>\n      <td>2.000000</td>\n      <td>0.000000</td>\n      <td>2.000000</td>\n      <td>34788.000000</td>\n    </tr>\n    <tr>\n      <th>50%</th>\n      <td>5902.000000</td>\n      <td>36.000000</td>\n      <td>804.000000</td>\n      <td>8.000000</td>\n      <td>3.000000</td>\n      <td>1.0</td>\n      <td>3.000000</td>\n      <td>66.000000</td>\n      <td>3.000000</td>\n      <td>2.000000</td>\n      <td>...</td>\n      <td>80.0</td>\n      <td>1.000000</td>\n      <td>10.000000</td>\n      <td>3.000000</td>\n      <td>3.000000</td>\n      <td>5.000000</td>\n      <td>3.000000</td>\n      <td>1.000000</td>\n      <td>3.000000</td>\n      <td>58512.000000</td>\n    </tr>\n    <tr>\n      <th>75%</th>\n      <td>7014.000000</td>\n      <td>45.000000</td>\n      <td>1162.000000</td>\n      <td>17.000000</td>\n      <td>4.000000</td>\n      <td>1.0</td>\n      <td>4.000000</td>\n      <td>84.000000</td>\n      <td>3.000000</td>\n      <td>3.000000</td>\n      <td>...</td>\n      <td>80.0</td>\n      <td>1.000000</td>\n      <td>17.000000</td>\n      <td>3.000000</td>\n      <td>3.000000</td>\n      <td>10.000000</td>\n      <td>7.000000</td>\n      <td>4.000000</td>\n      <td>7.000000</td>\n      <td>100152.000000</td>\n    </tr>\n    <tr>\n      <th>max</th>\n      <td>100146.000000</td>\n      <td>9890.000000</td>\n      <td>1499.000000</td>\n      <td>999590.000000</td>\n      <td>5.000000</td>\n      <td>1.0</td>\n      <td>4.000000</td>\n      <td>100.000000</td>\n      <td>4.000000</td>\n      <td>5.000000</td>\n      <td>...</td>\n      <td>80.0</td>\n      <td>3.000000</td>\n      <td>9939.000000</td>\n      <td>6.000000</td>\n      <td>4.000000</td>\n      <td>9984.000000</td>\n      <td>9937.000000</td>\n      <td>9990.000000</td>\n      <td>9882.000000</td>\n      <td>239988.000000</td>\n    </tr>\n  </tbody>\n</table>\n<p>8 rows × 28 columns</p>\n</div>"
     },
     "execution_count": 31,
     "metadata": {},
     "output_type": "execute_result"
    }
   ],
   "source": [
    "data.describe()"
   ],
   "metadata": {
    "collapsed": false,
    "ExecuteTime": {
     "end_time": "2023-05-21T12:56:27.169422200Z",
     "start_time": "2023-05-21T12:56:27.081421200Z"
    }
   }
  },
  {
   "cell_type": "code",
   "execution_count": 37,
   "outputs": [],
   "source": [
    "data.to_csv('data.csv')"
   ],
   "metadata": {
    "collapsed": false,
    "ExecuteTime": {
     "end_time": "2023-05-21T13:16:45.387995Z",
     "start_time": "2023-05-21T13:16:45.282995600Z"
    }
   }
  },
  {
   "cell_type": "code",
   "execution_count": null,
   "outputs": [],
   "source": [],
   "metadata": {
    "collapsed": false
   }
  }
 ],
 "metadata": {
  "kernelspec": {
   "display_name": "Python 3",
   "language": "python",
   "name": "python3"
  },
  "language_info": {
   "codemirror_mode": {
    "name": "ipython",
    "version": 2
   },
   "file_extension": ".py",
   "mimetype": "text/x-python",
   "name": "python",
   "nbconvert_exporter": "python",
   "pygments_lexer": "ipython2",
   "version": "2.7.6"
  }
 },
 "nbformat": 4,
 "nbformat_minor": 0
}
